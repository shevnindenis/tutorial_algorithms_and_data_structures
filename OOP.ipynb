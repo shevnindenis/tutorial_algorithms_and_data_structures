{
 "cells": [
  {
   "cell_type": "code",
   "execution_count": 1,
   "metadata": {},
   "outputs": [],
   "source": [
    "class Character():\n",
    "    max_speed = 100\n",
    "    dead_health = 0\n",
    "    def __init__(self, age, damage = 10, armor = -50):\n",
    "        self.age = age\n",
    "        self.damage = damage\n",
    "        self.armor = armor\n",
    "        self.health = 100\n",
    "        \n",
    "    def hit(self, damage):\n",
    "        self.health -= damage\n",
    "    \n",
    "    def is_dead(self):\n",
    "        return self.health <=Character.dead_health"
   ]
  },
  {
   "cell_type": "code",
   "execution_count": 2,
   "metadata": {},
   "outputs": [],
   "source": [
    "class Character2():\n",
    "    health = 200\n",
    "\n",
    "    def __init__(self, rase, damage = 10):\n",
    "        self.__rase = rase\n",
    "        self.damage = damage\n",
    "        self._health =100\n",
    "        self._curent_speed = 20\n",
    "        \n",
    "    def hit(self, damag):\n",
    "        self._health -= damag\n",
    "        \n",
    "    @property\n",
    "    def health(self):\n",
    "        return self._health\n",
    "    \n",
    "    @property\n",
    "    def rase(self):\n",
    "        return self.__rase\n",
    "    \n",
    "    @property\n",
    "    def curent_speed(self):\n",
    "        return self._curent_speed\n",
    "    \n",
    "    @curent_speed.setter\n",
    "    def curent_speed(self, curent_speed):\n",
    "        if curent_speed < 0:\n",
    "            self._curent_speed =0\n",
    "        elif curent_speed > 100:\n",
    "            self._curent_speed = 100\n",
    "        else:\n",
    "            self._curent_speed = curent_speed"
   ]
  },
  {
   "cell_type": "code",
   "execution_count": null,
   "metadata": {},
   "outputs": [],
   "source": []
  },
  {
   "cell_type": "code",
   "execution_count": null,
   "metadata": {},
   "outputs": [],
   "source": []
  },
  {
   "cell_type": "code",
   "execution_count": null,
   "metadata": {},
   "outputs": [],
   "source": []
  },
  {
   "cell_type": "code",
   "execution_count": null,
   "metadata": {},
   "outputs": [],
   "source": []
  }
 ],
 "metadata": {
  "kernelspec": {
   "display_name": "Python 3",
   "language": "python",
   "name": "python3"
  },
  "language_info": {
   "codemirror_mode": {
    "name": "ipython",
    "version": 3
   },
   "file_extension": ".py",
   "mimetype": "text/x-python",
   "name": "python",
   "nbconvert_exporter": "python",
   "pygments_lexer": "ipython3",
   "version": "3.7.3"
  }
 },
 "nbformat": 4,
 "nbformat_minor": 2
}
